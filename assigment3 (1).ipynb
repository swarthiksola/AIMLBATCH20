{
  "nbformat": 4,
  "nbformat_minor": 0,
  "metadata": {
    "colab": {
      "provenance": []
    },
    "kernelspec": {
      "name": "python3",
      "display_name": "Python 3"
    },
    "language_info": {
      "name": "python"
    }
  },
  "cells": [
    {
      "cell_type": "code",
      "execution_count": 1,
      "metadata": {
        "colab": {
          "base_uri": "https://localhost:8080/"
        },
        "id": "zxjCbptf1pLs",
        "outputId": "70325a0a-fc03-4367-faf1-a10ecb6452c5"
      },
      "outputs": [
        {
          "output_type": "stream",
          "name": "stdout",
          "text": [
            "Min value: 10\n",
            "Max value: 25\n"
          ]
        }
      ],
      "source": [
        "\n",
        "\n",
        "class TreeNode:\n",
        "    def __init__(self, data, left=None, right=None):\n",
        "        self.val = data\n",
        "        self.left = left\n",
        "        self.right = right\n",
        "\n",
        "class Solution:\n",
        "    def helper(self, root, h, currentHeight):\n",
        "        if not root:\n",
        "            return\n",
        "        self.helper(root.left, h, currentHeight + 1)\n",
        "        self.helper(root.right, h, currentHeight + 1)\n",
        "        if currentHeight < h:\n",
        "            if currentHeight % 2 == 0:\n",
        "                if root.left and root.right:\n",
        "                    root.val = max(root.left.val, root.right.val)\n",
        "                elif root.left:\n",
        "                    root.val = root.left.val\n",
        "                elif root.right:\n",
        "                    root.val = root.right.val\n",
        "            else:\n",
        "                if root.left and root.right:\n",
        "                    root.val = min(root.left.val, root.right.val)\n",
        "                elif root.left:\n",
        "                    root.val = root.left.val\n",
        "                elif root.right:\n",
        "                    root.val = root.right.val\n",
        "\n",
        "    def height(self, root):\n",
        "        if not root:\n",
        "            return 0\n",
        "        return 1 + max(self.height(root.left), self.height(root.right))\n",
        "\n",
        "    def solve(self, root):\n",
        "        h = self.height(root)\n",
        "        self.helper(root, h, 0)\n",
        "        return root\n",
        "\n",
        "    def print_tree(self, root):\n",
        "        if root is not None:\n",
        "            self.print_tree(root.left)\n",
        "            print(root.val, end=', ')\n",
        "            self.print_tree(root.right)\n",
        "\n",
        "ob = Solution()\n",
        "root = TreeNode(1)\n",
        "root.left = TreeNode(2)\n",
        "root.right = TreeNode(3)\n",
        "root.left.left = TreeNode(10)\n",
        "root.left.right = TreeNode(12)\n",
        "root.right.left = TreeNode(36)\n",
        "root.right.right = TreeNode(25)\n",
        "\n",
        "root = ob.solve(root)\n",
        "\n",
        "print(f\"Min value: {root.left.left.val}\")\n",
        "print(f\"Max value: {root.right.right.val}\")\n",
        "\n",
        "\n"
      ]
    },
    {
      "cell_type": "code",
      "source": [
        "def alphabeta(node, alpha, beta, is_maximizing_player):\n",
        "    if node.is_terminal():\n",
        "        return node.value\n",
        "\n",
        "    if is_maximizing_player:\n",
        "        max_eval = float('-inf')\n",
        "        for child in node.children:\n",
        "            eval = alphabeta(child, alpha, beta, False)\n",
        "            max_eval = max(max_eval, eval)\n",
        "            alpha = max(alpha, eval)\n",
        "            if beta <= alpha:\n",
        "                break\n",
        "        return max_eval\n",
        "    else:\n",
        "        min_eval = float('inf')\n",
        "        for child in node.children:\n",
        "            eval = alphabeta(child, alpha, beta, True)\n",
        "            min_eval = min(min_eval, eval)\n",
        "            beta = min(beta, eval)\n",
        "            if beta <= alpha:\n",
        "                break\n",
        "        return min_eval\n",
        "\n",
        "# Creating the tree\n",
        "class Node:\n",
        "    def __init__(self, value, children=[]):\n",
        "        self.value = value\n",
        "        self.children = children\n",
        "\n",
        "    def is_terminal(self):\n",
        "        return len(self.children) == 0\n",
        "\n",
        "node_12 = Node(12)\n",
        "node_10 = Node(10)\n",
        "node_2 = Node(2, [node_12, node_10])\n",
        "\n",
        "node_36 = Node(36)\n",
        "node_25 = Node(25)\n",
        "node_3 = Node(3, [node_36, node_25])\n",
        "\n",
        "node_1 = Node(1, [node_2, node_3])\n",
        "\n",
        "\n",
        "# Running the algorithm\n",
        "alpha = 10\n",
        "beta = 10\n",
        "result = alphabeta(node_1, alpha, beta, True)\n",
        "# Minimum, maximum, alpha, and beta values\n",
        "minimum_value = min(alpha, beta)\n",
        "maximum_value = max(alpha, beta)\n",
        "\n",
        "print(\"alpha value:\",alpha)\n",
        "print(\"Beta value:\",beta)"
      ],
      "metadata": {
        "colab": {
          "base_uri": "https://localhost:8080/"
        },
        "id": "oqQtNd572Y6r",
        "outputId": "901a925a-89f0-4e44-ded4-e4c69215d8cb"
      },
      "execution_count": 2,
      "outputs": [
        {
          "output_type": "stream",
          "name": "stdout",
          "text": [
            "alpha value: 10\n",
            "Beta value: 10\n"
          ]
        }
      ]
    }
  ]
}